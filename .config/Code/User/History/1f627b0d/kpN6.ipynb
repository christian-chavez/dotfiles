{
 "cells": [
  {
   "cell_type": "code",
   "execution_count": null,
   "metadata": {},
   "outputs": [],
   "source": [
    "# Importing Packages\n",
    "import numpy as np\n",
    "import keras\n",
    "from keras.models import Sequential\n",
    "from keras.layers import Dense\n",
    "from sklearn import datasets\n",
    "\n",
    "# Loading Dataset\n",
    "data = datasets.load_iris()\n",
    "print(data)\n",
    "\n",
    "x = data.data\n",
    "y = data.target\n",
    "z = data.target_names\n",
    "print(data.feature_names)\n",
    "print(x[0])\n",
    "\n",
    "# Split Dataset\n",
    "from sklearn.model_selection import train_test_split\n",
    "x_train, x_test,  y_train, y_test = train_test_split(x, y, test_size=0.3)\n",
    "\n",
    "# Data Shape\n",
    "print(x_train.shape)\n",
    "print(x_test.shape)\n",
    "\n",
    "# Building the Model\n",
    "model= Sequential()\n",
    "model.add(Dense(100,input_shape=(4,), activation=\"relu\"))\n",
    "model.add(Dense(3, activation='softmax'))\n",
    "\n",
    "# Compile the Model\n",
    "model.compile(optimizer=\"adam\", loss=\"sparse_categorical_crossentropy\", metrics=[\"accuracy\"])\n",
    "\n",
    "# Fit the Model\n",
    "model.fit(x_train,y_train, epochs=20)\n",
    "\n",
    "# Evaluate the Model\n",
    "model.evaluate(x_test, y_test)\n",
    "\n",
    "# Predict for the first 10 Observations\n",
    "pred=model.predict(x_test[:10])\n",
    "print(pred)\n",
    "\n",
    "p=np.argmax(pred, axis=1)\n",
    "print(p)\n",
    "print(y_test[:10])\n",
    "\n",
    "# Prediction Result\n",
    "for i in p:\n",
    "  print(\"Predicted-Class: {},   Name: {}\".format(i,z[i]))"
   ]
  }
 ],
 "metadata": {
  "kernelspec": {
   "display_name": "Python 3",
   "language": "python",
   "name": "python3"
  },
  "language_info": {
   "name": "python",
   "version": "2.7.0"
  }
 },
 "nbformat": 4,
 "nbformat_minor": 2
}
